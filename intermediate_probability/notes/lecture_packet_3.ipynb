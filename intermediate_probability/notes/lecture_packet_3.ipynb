{
 "cells": [
  {
   "cell_type": "code",
   "execution_count": 4,
   "metadata": {},
   "outputs": [
    {
     "data": {
      "text/html": [
       "0"
      ],
      "text/latex": [
       "0"
      ],
      "text/markdown": [
       "0"
      ],
      "text/plain": [
       "[1] 0"
      ]
     },
     "metadata": {},
     "output_type": "display_data"
    }
   ],
   "source": [
    "set.seed(1234)\n",
    "\n",
    "win1 <- 0.3\n",
    "\n",
    "outcome1 <- rbinom(1,1,win1)\n",
    "\n",
    "outcome1"
   ]
  },
  {
   "cell_type": "code",
   "execution_count": 7,
   "metadata": {},
   "outputs": [
    {
     "data": {
      "text/html": [
       "1"
      ],
      "text/latex": [
       "1"
      ],
      "text/markdown": [
       "1"
      ],
      "text/plain": [
       "[1] 1"
      ]
     },
     "metadata": {},
     "output_type": "display_data"
    }
   ],
   "source": [
    "win2 <- 0.4\n",
    "\n",
    "outcome2 <- rbinom(1,1,win2)\n",
    "\n",
    "outcome2"
   ]
  },
  {
   "cell_type": "code",
   "execution_count": 11,
   "metadata": {},
   "outputs": [],
   "source": [
    "set.seed(1234)\n",
    "\n",
    "win1 <- 0.3\n",
    "\n",
    "outcome1 <- rbinom(1, 1, win1)\n",
    "\n",
    "if(outcome == 1){\n",
    "    \n",
    "    win2 <- 0.8\n",
    "\n",
    "}else{\n",
    "\n",
    "    win2 <- 0.4}\n",
    "\n",
    "outcome2 <- rbinom(1, 1, win2)"
   ]
  },
  {
   "cell_type": "code",
   "execution_count": 22,
   "metadata": {},
   "outputs": [],
   "source": [
    "iters <- 10000\n",
    "game_matrix <- matrix(NA, iters, 2)\n",
    "colnames(game_matrix) <- c('game1','game2')\n",
    "\n",
    "set.seed(1234)\n",
    "win1 <- 0.3\n",
    "\n",
    "for(i in 1:iters){\n",
    "    \n",
    "    game_matrix[i, 1] <- rbinom(1, 1, win1)\n",
    "    \n",
    "    if(game_matrix[i, 1] == 1){\n",
    "        \n",
    "        win2 <- 0.8}\n",
    "    \n",
    "    else{\n",
    "        \n",
    "        win2 <- 0.4}\n",
    "    \n",
    "    game_matrix[i, 2] <- rbinom(1, 1, win2)\n",
    "\n",
    "}"
   ]
  },
  {
   "cell_type": "code",
   "execution_count": 23,
   "metadata": {},
   "outputs": [
    {
     "data": {
      "text/plain": [
       "   \n",
       "         0      1\n",
       "  0 0.4156 0.2856\n",
       "  1 0.0577 0.2411"
      ]
     },
     "metadata": {},
     "output_type": "display_data"
    }
   ],
   "source": [
    "table(game_matrix[ ,1], game_matrix[ ,2])/iters"
   ]
  },
  {
   "cell_type": "code",
   "execution_count": 24,
   "metadata": {},
   "outputs": [
    {
     "data": {
      "text/plain": [
       "\n",
       "     0      1 \n",
       "0.4733 0.5267 "
      ]
     },
     "metadata": {},
     "output_type": "display_data"
    }
   ],
   "source": [
    "table(game_matrix[,2])/iters"
   ]
  },
  {
   "cell_type": "code",
   "execution_count": 34,
   "metadata": {},
   "outputs": [
    {
     "data": {
      "text/html": [
       "<ol class=list-inline>\n",
       "\t<li>0</li>\n",
       "\t<li>0</li>\n",
       "\t<li>0</li>\n",
       "\t<li>0</li>\n",
       "\t<li>0</li>\n",
       "\t<li>0</li>\n",
       "\t<li>0</li>\n",
       "\t<li>0</li>\n",
       "\t<li>0</li>\n",
       "\t<li>0</li>\n",
       "\t<li>0</li>\n",
       "\t<li>1</li>\n",
       "\t<li>1</li>\n",
       "\t<li>1</li>\n",
       "\t<li>1</li>\n",
       "\t<li>1</li>\n",
       "\t<li>1</li>\n",
       "</ol>\n"
      ],
      "text/latex": [
       "\\begin{enumerate*}\n",
       "\\item 0\n",
       "\\item 0\n",
       "\\item 0\n",
       "\\item 0\n",
       "\\item 0\n",
       "\\item 0\n",
       "\\item 0\n",
       "\\item 0\n",
       "\\item 0\n",
       "\\item 0\n",
       "\\item 0\n",
       "\\item 1\n",
       "\\item 1\n",
       "\\item 1\n",
       "\\item 1\n",
       "\\item 1\n",
       "\\item 1\n",
       "\\end{enumerate*}\n"
      ],
      "text/markdown": [
       "1. 0\n",
       "2. 0\n",
       "3. 0\n",
       "4. 0\n",
       "5. 0\n",
       "6. 0\n",
       "7. 0\n",
       "8. 0\n",
       "9. 0\n",
       "10. 0\n",
       "11. 0\n",
       "12. 1\n",
       "13. 1\n",
       "14. 1\n",
       "15. 1\n",
       "16. 1\n",
       "17. 1\n",
       "\n",
       "\n"
      ],
      "text/plain": [
       " [1] 0 0 0 0 0 0 0 0 0 0 0 1 1 1 1 1 1"
      ]
     },
     "metadata": {},
     "output_type": "display_data"
    },
    {
     "data": {
      "text/html": [
       "6"
      ],
      "text/latex": [
       "6"
      ],
      "text/markdown": [
       "6"
      ],
      "text/plain": [
       "[1] 6"
      ]
     },
     "metadata": {},
     "output_type": "display_data"
    },
    {
     "data": {
      "text/html": [
       "2.4642"
      ],
      "text/latex": [
       "2.4642"
      ],
      "text/markdown": [
       "2.4642"
      ],
      "text/plain": [
       "[1] 2.4642"
      ]
     },
     "metadata": {},
     "output_type": "display_data"
    },
    {
     "data": {
      "text/html": [
       "1.00569354276051"
      ],
      "text/latex": [
       "1.00569354276051"
      ],
      "text/markdown": [
       "1.00569354276051"
      ],
      "text/plain": [
       "[1] 1.005694"
      ]
     },
     "metadata": {},
     "output_type": "display_data"
    },
    {
     "data": {
      "text/plain": [
       "\n",
       "    0 1e-04 2e-04 3e-04 4e-04 5e-04 6e-04 \n",
       "  183  1439  3554  3394  1246   175     9 "
      ]
     },
     "metadata": {},
     "output_type": "display_data"
    }
   ],
   "source": [
    "# diamond lake\n",
    "duffel <- c(rep(0, 11), rep(1, 6))\n",
    "duffel\n",
    "\n",
    "my_sample <- sum(sample(duffel, replace = F))\n",
    "my_sample\n",
    "\n",
    "iters <- 10000\n",
    "samples <- matrix(NA, iters, 1)\n",
    "\n",
    "for(i in 1:iters){\n",
    "    \n",
    "    samples[i] <- sum(sample(duffel, 7, replace = F))\n",
    "\n",
    "}\n",
    "\n",
    "mean(samples)\n",
    "\n",
    "sd(samples)\n",
    "\n",
    "table(samples/iters)"
   ]
  },
  {
   "cell_type": "code",
   "execution_count": 40,
   "metadata": {},
   "outputs": [
    {
     "data": {
      "text/html": [
       "9.7693"
      ],
      "text/latex": [
       "9.7693"
      ],
      "text/markdown": [
       "9.7693"
      ],
      "text/plain": [
       "[1] 9.7693"
      ]
     },
     "metadata": {},
     "output_type": "display_data"
    },
    {
     "data": {
      "text/html": [
       "3.74262985583985"
      ],
      "text/latex": [
       "3.74262985583985"
      ],
      "text/markdown": [
       "3.74262985583985"
      ],
      "text/plain": [
       "[1] 3.74263"
      ]
     },
     "metadata": {},
     "output_type": "display_data"
    },
    {
     "data": {
      "text/plain": [
       "donor_counts\n",
       "     4      5      6      7      8      9     10     11     12     13     14 \n",
       "0.0270 0.0692 0.0960 0.1151 0.1192 0.1130 0.1034 0.0832 0.0682 0.0534 0.0396 \n",
       "    15     16     17     18     19     20     21     22     23     24     25 \n",
       "0.0318 0.0237 0.0183 0.0132 0.0079 0.0062 0.0042 0.0024 0.0015 0.0008 0.0009 \n",
       "    26     27     29     30     32     39 \n",
       "0.0008 0.0004 0.0001 0.0003 0.0001 0.0001 "
      ]
     },
     "metadata": {},
     "output_type": "display_data"
    }
   ],
   "source": [
    "# blood donation\n",
    "donor_counts <- matrix(NA, iters, 1)\n",
    "\n",
    "for(i in 1:iters){\n",
    "    \n",
    "    count_total = 0\n",
    "    countA = 0\n",
    "    \n",
    "    while(countA < 4){\n",
    "\n",
    "        if(rbinom(1, 1, 0.41))\n",
    "\n",
    "            countA = countA + 1\n",
    "\n",
    "        count_total = count_total + 1\n",
    "    }\n",
    "    \n",
    "donor_counts[i] <- count_total\n",
    "    \n",
    "}\n",
    "\n",
    "mean(donor_counts)\n",
    "sd(donor_counts)\n",
    "\n",
    "donor_pmf <- table(donor_counts)/iters\n",
    "donor_pmf"
   ]
  },
  {
   "cell_type": "code",
   "execution_count": null,
   "metadata": {},
   "outputs": [],
   "source": []
  }
 ],
 "metadata": {
  "kernelspec": {
   "display_name": "R",
   "language": "R",
   "name": "ir"
  },
  "language_info": {
   "codemirror_mode": "r",
   "file_extension": ".r",
   "mimetype": "text/x-r-source",
   "name": "R",
   "pygments_lexer": "r",
   "version": "3.6.1"
  }
 },
 "nbformat": 4,
 "nbformat_minor": 4
}
