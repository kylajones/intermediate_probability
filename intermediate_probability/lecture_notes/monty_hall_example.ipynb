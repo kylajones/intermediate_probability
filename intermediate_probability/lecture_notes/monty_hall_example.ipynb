{
 "cells": [
  {
   "cell_type": "markdown",
   "id": "9f847d31",
   "metadata": {},
   "source": [
    " <img src='GetImage.png' alt=\"pic\"> \n",
    " "
   ]
  },
  {
   "cell_type": "code",
   "execution_count": 1,
   "id": "a3862de2",
   "metadata": {},
   "outputs": [],
   "source": [
    "#import numpy as np\n",
    "# isTRUE(1)\n",
    "#isTRUE(1>0)\n",
    "#isTRUE(\"a\")\n",
    "# a= c(1,2,3,4)\n",
    "# a"
   ]
  },
  {
   "cell_type": "code",
   "execution_count": null,
   "id": "4145b750",
   "metadata": {},
   "outputs": [],
   "source": []
  }
 ],
 "metadata": {
  "kernelspec": {
   "display_name": "R",
   "language": "R",
   "name": "ir"
  },
  "language_info": {
   "codemirror_mode": {
    "name": "ipython",
    "version": 3
   },
   "file_extension": ".py",
   "mimetype": "text/x-python",
   "name": "python",
   "nbconvert_exporter": "python",
   "pygments_lexer": "ipython3",
   "version": "3.9.7"
  }
 },
 "nbformat": 4,
 "nbformat_minor": 5
}
