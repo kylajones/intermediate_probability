{
 "cells": [
  {
   "cell_type": "code",
   "execution_count": 50,
   "metadata": {},
   "outputs": [],
   "source": [
    "# sum_columns <- function(results){\n",
    "    \n",
    "#     col_sum <- matrix(0, 1, 6)\n",
    "    \n",
    "#     for(j in 1:6){\n",
    "    \n",
    "#         col_sum[,j] <- sum(results[,j])\n",
    "    \n",
    "#     }\n",
    "    \n",
    "#     return(col_sum)\n",
    "\n",
    "# }\n",
    "\n",
    "# faces <- c(1,2,3,4,5,6)\n",
    "# iters <- 5\n",
    "# rolls <- matrix(NA,iters)\n",
    "# '%!in%'<-Negate('%in%')\n",
    "\n",
    "# for(i in 1:iters){\n",
    "    \n",
    "#     results <- matrix(0,50,6)\n",
    "    \n",
    "#     k <- 0\n",
    "    \n",
    "#     no_rolls <-0\n",
    "    \n",
    "#     #col_sum <- matrix(0, 1, 6)\n",
    "    \n",
    "#     while(3 %!in% col_sum){\n",
    "        \n",
    "#         k <- k + 1\n",
    "        \n",
    "# x <- sample(faces, size = 1, replace = F)    \n",
    "    \n",
    "# results[k,x] <- 1\n",
    "        \n",
    "# if(results[k,x]==results[k-1,x] && results[k,x]==results[k-1,x])\n",
    "        \n",
    "#         #col_sum <- sum_columns(results)\n",
    "        \n",
    "#         #print(col_sum)\n",
    "        \n",
    "#         no_rolls <- no_rolls + 1\n",
    "#     }\n",
    "    \n",
    "#     #print('found')\n",
    "    \n",
    "#     rolls[i] <- no_rolls\n",
    "# }\n",
    "\n",
    "# hist(rolls)"
   ]
  },
  {
   "cell_type": "code",
   "execution_count": 51,
   "metadata": {},
   "outputs": [],
   "source": [
    "# faces <- c(1,2,3,4,5,6)\n",
    "# iters <- 10000\n",
    "# rolls <- matrix(NA,iters)\n",
    "\n",
    "# for(i in 1:iters){\n",
    "    \n",
    "#     results <- matrix(0,5000,6)\n",
    "    \n",
    "#     no_rolls <- 0\n",
    "    \n",
    "#     for(k in 1:5000){\n",
    "        \n",
    "#         x <- sample(faces, size = 1, replace = F)    \n",
    "    \n",
    "#         results[k,x] <- 1\n",
    "        \n",
    "#         if(k>2 && results[k,x]==results[k-1,x] && results[k,x] == results[k-2,x]){\n",
    "            \n",
    "#             rolls[i] <- k\n",
    "            \n",
    "#             break\n",
    "#         }\n",
    "#     }\n",
    "# }\n",
    "\n",
    "# hist(rolls)\n",
    "# p_50 = sum(rolls >= 50)/length(rolls)\n",
    "# print(p_50)"
   ]
  },
  {
   "cell_type": "code",
   "execution_count": 16,
   "metadata": {
    "scrolled": false
   },
   "outputs": [
    {
     "data": {
      "image/png": "[encoded data removed]",
      "text/plain": [
       "plot without title"
      ]
     },
     "metadata": {},
     "output_type": "display_data"
    }
   ],
   "source": [
    "# N <- 50 # size of class\n",
    "\n",
    "# days <-seq(1,365) # all possible \"birthdays\"\n",
    "\n",
    "# iters_range <- c(1e4,2.5e4,5e4,7.5e4,1e5,2.5e5,5e5,7.5e5,1e6) # set no. of iterations\n",
    "\n",
    "# p_4_only <- matrix(NA, length(iters_range))\n",
    "\n",
    "# set.seed(1234)\n",
    "\n",
    "# for(j in 1:length(iters_range)){\n",
    "    \n",
    "#     iters <- iters_range[j]\n",
    "    \n",
    "#     success <- matrix(NA, iters)\n",
    "\n",
    "#     for(i in 1:iters){\n",
    "\n",
    "#         stud_bdays  <-table(sample(days, size= 50, replace = T)) # randomly assign student birthdays\n",
    "\n",
    "#         all_repeats <-  length(which(stud_bdays > 1)) # count number of shared birthdays\n",
    "\n",
    "#         four_repeats <- length(which(stud_bdays == 4)) # count number of birthdays shared by 4 students\n",
    "\n",
    "#         if(four_repeats == 1 && all_repeats == 1){\n",
    "\n",
    "#             success[i] <- TRUE  # if only one set of 4 students share a birthday, we have a success\n",
    "\n",
    "#         }\n",
    "\n",
    "#         else{\n",
    "\n",
    "#             success[i] <- FALSE # else, we have a failure\n",
    "\n",
    "#         }\n",
    "#     }\n",
    "    \n",
    "#     p_4_only[j] <- sum(success)/length(success) # compute probability of success\n",
    "\n",
    "# }\n",
    "\n",
    "# plot(log(iters_range,10), p_4_only) # to ensure convergence"
   ]
  },
  {
   "cell_type": "code",
   "execution_count": 50,
   "metadata": {},
   "outputs": [
    {
     "name": "stdout",
     "output_type": "stream",
     "text": [
      "[1] 96.4893\n"
     ]
    },
    {
     "data": {
      "image/png": "[encoded data removed]",
      "text/plain": [
       "Plot with title \"Histogram of buyers\""
      ]
     },
     "metadata": {},
     "output_type": "display_data"
    }
   ],
   "source": [
    "mu <- 138\n",
    "p <- 0.7\n",
    "iters <- 10000\n",
    "buyers <- matrix(NA,iters)\n",
    "\n",
    "for(i in 1:iters){\n",
    "    \n",
    "    x <- rpois(1,mu) # compute the number of people who will enter the store that day\n",
    "   \n",
    "    y <- matrix(NA,x) \n",
    "    \n",
    "    for(j in 1:x){\n",
    "        \n",
    "        y[j] <- rbern(1,p) # determine whether or not each buyer will make a purchase\n",
    "        \n",
    "    }\n",
    "    \n",
    "    buyers[i] <- sum(y) #count the total number of buyers\n",
    "\n",
    "}\n",
    "exp_val <- mean(buyers) #compute the expected value\n",
    "hist(buyers,xlab='No. of buyers',) #visualize data\n",
    "print(exp_val)"
   ]
  },
  {
   "cell_type": "code",
   "execution_count": null,
   "metadata": {},
   "outputs": [],
   "source": []
  }
 ],
 "metadata": {
  "kernelspec": {
   "display_name": "R",
   "language": "R",
   "name": "ir"
  },
  "language_info": {
   "codemirror_mode": "r",
   "file_extension": ".r",
   "mimetype": "text/x-r-source",
   "name": "R",
   "pygments_lexer": "r",
   "version": "3.6.1"
  }
 },
 "nbformat": 4,
 "nbformat_minor": 4
}
