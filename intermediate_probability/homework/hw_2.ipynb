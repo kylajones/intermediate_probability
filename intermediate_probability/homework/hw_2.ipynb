{
 "cells": [
  {
   "cell_type": "code",
   "execution_count": 1,
   "id": "abbca727",
   "metadata": {},
   "outputs": [],
   "source": [
    "import numpy as np\n",
    "import matplotlib.pyplot as plt"
   ]
  },
  {
   "cell_type": "code",
   "execution_count": 47,
   "id": "cd857233",
   "metadata": {},
   "outputs": [
    {
     "name": "stdout",
     "output_type": "stream",
     "text": [
      "0.8\n",
      "1.44\n",
      "0.7999999999999998\n",
      "0.8944271909999157\n",
      "2.5888543819998313\n"
     ]
    },
    {
     "data": {
      "image/png": "[encoded data removed]",
      "text/plain": [
       "<Figure size 432x288 with 1 Axes>"
      ]
     },
     "metadata": {
      "needs_background": "light"
     },
     "output_type": "display_data"
    },
    {
     "data": {
      "image/png": "[encoded data removed]",
      "text/plain": [
       "<Figure size 432x288 with 1 Axes>"
      ]
     },
     "metadata": {
      "needs_background": "light"
     },
     "output_type": "display_data"
    }
   ],
   "source": [
    "x = np.arange(0,5)\n",
    "\n",
    "p_x = np.array([0.45,0.36,0.14,0.04,0.01])\n",
    "\n",
    "F_x = 0*p_x\n",
    "\n",
    "F_x[0] = p_x[0]\n",
    "\n",
    "for j in np.arange(0,len(p_x)-1):\n",
    "    \n",
    "    F_x[j+1] = p_x[j+1] + F_x[j]  \n",
    "\n",
    "# plot pmf\n",
    "plt.figure()\n",
    "plt.plot(x,p_x,'ko')\n",
    "plt.ylabel(r'$\\mathcal{P}(X=x)$', fontsize = 20)\n",
    "plt.xlabel(r'$x$', fontsize = 20)\n",
    "plt.title('pmf', fontsize = 20)\n",
    "plt.xticks(x)\n",
    "plt.savefig('hw2_q_2_pmf.png', dpi =1200)\n",
    "\n",
    "# plot cdf\n",
    "plt.figure()\n",
    "plt.plot(x,F_x,'ko')\n",
    "plt.plot(x[1:5],F_x[0:4],'ko', fillstyle = 'none')\n",
    "plt.plot(x[0:2],np.array([F_x[0],F_x[0]]), 'k')\n",
    "plt.plot(x[1:3],np.array([F_x[1],F_x[1]]), 'k')\n",
    "plt.plot(x[2:4],np.array([F_x[2],F_x[2]]), 'k')\n",
    "plt.plot(x[3:5],np.array([F_x[3],F_x[3]]), 'k')\n",
    "plt.ylabel(r'$\\mathcal{P}(X\\leq x)$', fontsize = 20)\n",
    "plt.xlabel(r'$x$', fontsize = 20)\n",
    "plt.title('cdf', fontsize = 20)\n",
    "plt.xticks(x)\n",
    "plt.savefig('hw2_q_2_cdf.png', dpi =1200)\n",
    "\n",
    "# compute expected value\n",
    "E_X = np.sum(p_x*x)\n",
    "print(E_X)\n",
    "\n",
    "# compute second moment\n",
    "E_X2 = np.sum(p_x*x**2)\n",
    "print(E_X2)\n",
    "\n",
    "# compute variance\n",
    "V_X = E_X2 - E_X**2\n",
    "print(V_X)\n",
    "\n",
    "# compute sd\n",
    "SD = np.sqrt(V_X)\n",
    "print(SD)\n",
    "\n",
    "#margin\n",
    "print(E_X + 2*SD)"
   ]
  },
  {
   "cell_type": "code",
   "execution_count": null,
   "id": "28a24b27",
   "metadata": {},
   "outputs": [],
   "source": []
  }
 ],
 "metadata": {
  "kernelspec": {
   "display_name": "Python 3 (ipykernel)",
   "language": "python",
   "name": "python3"
  },
  "language_info": {
   "codemirror_mode": {
    "name": "ipython",
    "version": 3
   },
   "file_extension": ".py",
   "mimetype": "text/x-python",
   "name": "python",
   "nbconvert_exporter": "python",
   "pygments_lexer": "ipython3",
   "version": "3.9.7"
  }
 },
 "nbformat": 4,
 "nbformat_minor": 5
}
